{
 "cells": [
  {
   "cell_type": "code",
   "execution_count": 11,
   "metadata": {},
   "outputs": [],
   "source": [
    "import pickle\n",
    "file_name='scaling_object.pkl'\n",
    "filename='lasso_object.pkl'\n",
    "\n",
    "scaler= pickle.load(open(file_name,'rb'))\n",
    "model = pickle.load(open(filename,'rb'))"
   ]
  },
  {
   "cell_type": "code",
   "execution_count": 15,
   "metadata": {},
   "outputs": [],
   "source": [
    "import numpy as np\n",
    "def Log_Transform(val):\n",
    "    if val==0:\n",
    "        return val\n",
    "    else:\n",
    "        return np.log(val)"
   ]
  },
  {
   "cell_type": "code",
   "execution_count": 16,
   "metadata": {},
   "outputs": [],
   "source": [
    "def Prediction(rd_sh,dem_low,dist,fuel,misc,wtons,labour,toll,toll_yes,scaler,model):\n",
    "    inputs=[]\n",
    "    if rd_sh.lower()=='sh':\n",
    "        inputs.append(1)\n",
    "    else:\n",
    "        inputs.append(0)\n",
    "    \n",
    "    if dem_low.lower()=='low':\n",
    "        inputs=inputs + [1,0]\n",
    "    elif dem_low.lower()=='normal':\n",
    "        inputs=inputs + [0,1]\n",
    "    else:\n",
    "        inputs=inputs + [0,0]\n",
    "    \n",
    "    inputs.append(Log_Transform(dist))\n",
    "    inputs.append(Log_Transform(fuel))\n",
    "    inputs.append(Log_Transform(misc))\n",
    "    inputs.append(wtons)\n",
    "    inputs.append(labour)    \n",
    "    inputs.append(toll)\n",
    "    \n",
    "    if toll_yes.lower()=='yes':\n",
    "        inputs.append(1)\n",
    "    else:\n",
    "        inputs.append(0)\n",
    "        \n",
    "    new_input=scaler.transform([inputs])\n",
    "    \n",
    "    pred=model.predict(new_input)[0]\n",
    "    return pred"
   ]
  },
  {
   "cell_type": "code",
   "execution_count": 17,
   "metadata": {},
   "outputs": [
    {
     "data": {
      "text/plain": [
       "11194.556864782055"
      ]
     },
     "execution_count": 17,
     "metadata": {},
     "output_type": "execute_result"
    }
   ],
   "source": [
    "i=Prediction('nh','low',560,6500,9000,8,750,980,'yes',scaler,model)\n",
    "i"
   ]
  },
  {
   "cell_type": "code",
   "execution_count": null,
   "metadata": {},
   "outputs": [],
   "source": []
  }
 ],
 "metadata": {
  "kernelspec": {
   "display_name": "Python 3",
   "language": "python",
   "name": "python3"
  },
  "language_info": {
   "codemirror_mode": {
    "name": "ipython",
    "version": 3
   },
   "file_extension": ".py",
   "mimetype": "text/x-python",
   "name": "python",
   "nbconvert_exporter": "python",
   "pygments_lexer": "ipython3",
   "version": "3.8.5"
  }
 },
 "nbformat": 4,
 "nbformat_minor": 4
}
